{
 "cells": [
  {
   "cell_type": "markdown",
   "source": [
    "# Use Case: ZAF202303 News Classifier\n",
    "\n",
    "\n",
    "### Overview\n",
    "(example) We are building a web application with API access to a machine learning model without giving source of code or any details how it works. We are interested in building a high quality text classifier that categorizes new stories into 2 categories - information and entertainment. We want the classifier to stick with predicting the better among these two categories (this classifier will not predict a percentage score for these two categories).\n",
    "\n",
    "\n",
    "### Methodology\n",
    "(describe the steps)\n",
    "There are 10000 different news stories and additional news stories.\n",
    "- Run the classifier on 1 mln random stories out of 1000 news sources. Get 10k stories where the classifier output is the closest to the decision boundary and get these examples labeled.\n",
    "- Get 10k random labeled stories from the 10k random labeled stories from 1000 news we care about.\n",
    "- Pick a random sample of 1 mln stories from 1000 news sources and have them labeled. Pick the subset of 10k stories where the model’s output is both wrong and farthest away from the decision boundary.\n",
    "\n",
    "Using different methods of classifying a bag of news articles from 1000 news sources, measure the accuracy of the model with an original train dataset.\n",
    "\n",
    "### Business Segments\n",
    "(advise for which business segments you can apply the model)\n",
    "Business Segments are the following, please following the names of business segments given:\n",
    "\n",
    "- Airlines\n",
    "- Autonomous Driving\n",
    "- Banking & Finance\n",
    "- Business & Private Sector\n",
    "- Government & Public Services\n",
    "- Healthcare\n",
    "- Human Resources\n",
    "- Lifestyle & Social Media\n",
    "- Media & Publishing\n",
    "- Retail & E-commerce\n",
    "\n",
    "\n",
    "### AI Application\n",
    "(describe how your model can be useful in real life or business)\n",
    "- Objective\n",
    "- Models\n",
    "- Predictions format\n",
    "\n",
    "\n",
    "### Data\n",
    "Put a link to the dataset.\n",
    "\n",
    "\n",
    "### Papers\n",
    "Advise the papers you referred to for citation.\n",
    "\n",
    "\n",
    "### Demo link\n",
    "Record a 1 min demo and kindly provide a link for this.\n",
    "\n",
    "\n",
    "### Team\n",
    "Put the names of all contributors and their contacts, Github names if you want."
   ],
   "metadata": {
    "collapsed": false,
    "pycharm": {
     "name": "#%% md\n"
    }
   }
  },
  {
   "cell_type": "markdown",
   "source": [
    "## 1 - Load the data"
   ],
   "metadata": {
    "collapsed": false,
    "pycharm": {
     "name": "#%% md\n"
    }
   }
  },
  {
   "cell_type": "code",
   "execution_count": 1,
   "outputs": [],
   "source": [
    "# your code is here"
   ],
   "metadata": {
    "collapsed": false,
    "pycharm": {
     "name": "#%%\n"
    }
   }
  },
  {
   "cell_type": "markdown",
   "source": [
    "## 2 - Data Preprocessing, Exploratory Data Analysis"
   ],
   "metadata": {
    "collapsed": false,
    "pycharm": {
     "name": "#%% md\n"
    }
   }
  },
  {
   "cell_type": "code",
   "execution_count": 11,
   "outputs": [],
   "source": [
    "# your code is here"
   ],
   "metadata": {
    "collapsed": false,
    "pycharm": {
     "name": "#%%\n"
    }
   }
  },
  {
   "cell_type": "markdown",
   "source": [
    "## 3 - Models\n",
    "Write a code for training, validating, testing for all the models you are capable of in the notebook `model.ipynb`. Put as much comments as you can what you do, how the pre-trained model works, which issues you face. We want to deploy your model into production, please help us to do so by clearly saying what you do and why it is good.\n",
    "\n",
    "**Write a clear conclusion which model can be recommended to the client at the of this part.**"
   ],
   "metadata": {
    "collapsed": false,
    "pycharm": {
     "name": "#%% md\n"
    }
   }
  },
  {
   "cell_type": "code",
   "execution_count": 12,
   "outputs": [],
   "source": [
    "# your code is here"
   ],
   "metadata": {
    "collapsed": false,
    "pycharm": {
     "name": "#%%\n"
    }
   }
  },
  {
   "cell_type": "markdown",
   "source": [
    "### *Conclusion:* The model which can be recommended to the client is ... (Put here also essential recommendations to the client how to use your model)."
   ],
   "metadata": {
    "collapsed": false,
    "pycharm": {
     "name": "#%% md\n"
    }
   }
  },
  {
   "cell_type": "markdown",
   "source": [
    "## 4 - Saving the model\n",
    "Save the DS best model in the Jupyter notebook `model.ipynb` in one of the following formats:\n",
    "\n",
    "- `network.save('model.h5')` #keras\n",
    "- `joblib.dump(model, \"model.pkl\")` # optional\n",
    "- `torch.save(model.state_dict(), './model.pt')` #pytorch\n",
    "- `model.save('path/to/model')`\n",
    "\n",
    "End of document."
   ],
   "metadata": {
    "collapsed": false,
    "pycharm": {
     "name": "#%% md\n"
    }
   }
  },
  {
   "cell_type": "code",
   "execution_count": null,
   "outputs": [],
   "source": [],
   "metadata": {
    "collapsed": false,
    "pycharm": {
     "name": "#%%\n"
    }
   }
  }
 ],
 "metadata": {
  "kernelspec": {
   "display_name": "Python 3",
   "language": "python",
   "name": "python3"
  },
  "language_info": {
   "codemirror_mode": {
    "name": "ipython",
    "version": 2
   },
   "file_extension": ".py",
   "mimetype": "text/x-python",
   "name": "python",
   "nbconvert_exporter": "python",
   "pygments_lexer": "ipython2",
   "version": "2.7.6"
  }
 },
 "nbformat": 4,
 "nbformat_minor": 0
}