{
  "nbformat": 4,
  "nbformat_minor": 0,
  "metadata": {
    "colab": {
      "provenance": []
    },
    "kernelspec": {
      "name": "python3",
      "display_name": "Python 3"
    },
    "language_info": {
      "name": "python"
    }
  },
  "cells": [
    {
      "cell_type": "code",
      "execution_count": null,
      "metadata": {
        "id": "P6do-BLImcTi"
      },
      "outputs": [],
      "source": [
        "import pandas as pd\n",
        "import numpy as np\n",
        "\n",
        "import matplotlib\n",
        "import seaborn\n",
        "import matplotlib.dates as md\n",
        "from matplotlib import pyplot as plt\n",
        "\n",
        "from sklearn import preprocessing\n",
        "from sklearn.decomposition import PCA\n",
        "from sklearn.cluster import KMeans\n",
        "from sklearn.covariance import EllipticEnvelope\n",
        "\n",
        "from sklearn.ensemble import IsolationForest\n",
        "from sklearn.svm import OneClassSVM"
      ]
    },
    {
      "cell_type": "code",
      "source": [
        "\n",
        "def getDistanceByPoint(data, model):\n",
        "    distance = pd.Series()\n",
        "    for i in range(0,len(data)):\n",
        "        Xa = np.array(data.loc[i])\n",
        "        Xb = model.cluster_centers_[model.labels_[i]-1]\n",
        "        distance.set_value(i, np.linalg.norm(Xa-Xb))\n",
        "    return distance\n",
        "\n",
        "def getTransitionMatrix (df):\n",
        "\tdf = np.array(df)\n",
        "\tmodel = msm.estimate_markov_model(df, 1)\n",
        "\treturn model.transition_matrix\n",
        "\n",
        "def markovAnomaly(df, windows_size, threshold):\n",
        "    transition_matrix = getTransitionMatrix(df)\n",
        "    real_threshold = threshold**windows_size\n",
        "    df_anomaly = []\n",
        "    for j in range(0, len(df)):\n",
        "        if (j < windows_size):\n",
        "            df_anomaly.append(0)\n",
        "        else:\n",
        "            sequence = df[j-windows_size:j]\n",
        "            sequence = sequence.reset_index(drop=True)\n",
        "            df_anomaly.append(anomalyElement(sequence, real_threshold, transition_matrix))\n",
        "    return df_anomaly"
      ],
      "metadata": {
        "id": "Cz5EBHkFoDLO"
      },
      "execution_count": null,
      "outputs": []
    },
    {
      "cell_type": "code",
      "source": [
        "from google.colab import drive\n",
        "drive.mount('/content/drive')"
      ],
      "metadata": {
        "colab": {
          "base_uri": "https://localhost:8080/"
        },
        "id": "0xp5sHrTfGff",
        "outputId": "43a96290-b703-4723-a49a-9c4c1661a1fc"
      },
      "execution_count": null,
      "outputs": [
        {
          "output_type": "stream",
          "name": "stdout",
          "text": [
            "Drive already mounted at /content/drive; to attempt to forcibly remount, call drive.mount(\"/content/drive\", force_remount=True).\n"
          ]
        }
      ]
    },
    {
      "cell_type": "code",
      "source": [
        "df = pd.read_csv(\"drive/MyDrive/anomaly/realKnownCause/realKnownCause/ambient_temperature_system_failure.csv\")"
      ],
      "metadata": {
        "id": "jl_zs_f1fIFf"
      },
      "execution_count": null,
      "outputs": []
    },
    {
      "cell_type": "code",
      "source": [
        "print(df.info())"
      ],
      "metadata": {
        "colab": {
          "base_uri": "https://localhost:8080/"
        },
        "id": "O5I4Gkl6gQ0T",
        "outputId": "f365daae-bf95-4dc0-bac5-e19b87e427ef"
      },
      "execution_count": null,
      "outputs": [
        {
          "output_type": "stream",
          "name": "stdout",
          "text": [
            "<class 'pandas.core.frame.DataFrame'>\n",
            "RangeIndex: 7267 entries, 0 to 7266\n",
            "Data columns (total 2 columns):\n",
            " #   Column     Non-Null Count  Dtype  \n",
            "---  ------     --------------  -----  \n",
            " 0   timestamp  7267 non-null   object \n",
            " 1   value      7267 non-null   float64\n",
            "dtypes: float64(1), object(1)\n",
            "memory usage: 113.7+ KB\n",
            "None\n"
          ]
        }
      ]
    },
    {
      "cell_type": "code",
      "source": [
        "# check the timestamp format and frequence \n",
        "print(df['timestamp'].head(10))"
      ],
      "metadata": {
        "colab": {
          "base_uri": "https://localhost:8080/"
        },
        "id": "xv41IzPkgQ9W",
        "outputId": "4a943acf-5f00-4a0b-e697-720b808125a8"
      },
      "execution_count": null,
      "outputs": [
        {
          "output_type": "stream",
          "name": "stdout",
          "text": [
            "0    2013-07-04 00:00:00\n",
            "1    2013-07-04 01:00:00\n",
            "2    2013-07-04 02:00:00\n",
            "3    2013-07-04 03:00:00\n",
            "4    2013-07-04 04:00:00\n",
            "5    2013-07-04 05:00:00\n",
            "6    2013-07-04 06:00:00\n",
            "7    2013-07-04 07:00:00\n",
            "8    2013-07-04 08:00:00\n",
            "9    2013-07-04 09:00:00\n",
            "Name: timestamp, dtype: object\n"
          ]
        }
      ]
    },
    {
      "cell_type": "code",
      "source": [
        "# check the temperature mean\n",
        "print(df['value'].mean())"
      ],
      "metadata": {
        "colab": {
          "base_uri": "https://localhost:8080/"
        },
        "id": "hxfBtoNggRBq",
        "outputId": "ab1df282-092e-4619-f907-db8f3e56228b"
      },
      "execution_count": null,
      "outputs": [
        {
          "output_type": "stream",
          "name": "stdout",
          "text": [
            "71.24243270828815\n"
          ]
        }
      ]
    },
    {
      "cell_type": "code",
      "source": [
        "# change the type of timestamp column for plotting\n",
        "df['timestamp'] = pd.to_datetime(df['timestamp'])\n",
        "# change fahrenheit to °C (temperature mean= 71 -> fahrenheit)\n",
        "df['value'] = (df['value'] - 32) * 5/9\n",
        "# plot the data\n",
        "df.plot(x='timestamp', y='value')"
      ],
      "metadata": {
        "colab": {
          "base_uri": "https://localhost:8080/",
          "height": 451
        },
        "id": "k9m-NtQqgcYH",
        "outputId": "736196fa-cb08-4d87-eda1-39b989946800"
      },
      "execution_count": null,
      "outputs": [
        {
          "output_type": "execute_result",
          "data": {
            "text/plain": [
              "<Axes: xlabel='timestamp'>"
            ]
          },
          "metadata": {},
          "execution_count": 9
        },
        {
          "output_type": "display_data",
          "data": {
            "text/plain": [
              "<Figure size 640x480 with 1 Axes>"
            ],
            "image/png": "[encoded data removed]"
          },
          "metadata": {}
        }
      ]
    },
    {
      "cell_type": "code",
      "source": [
        "df['hours'] = df['timestamp'].dt.hour\n",
        "df['daylight'] = ((df['hours'] >= 7) & (df['hours'] <= 22)).astype(int)"
      ],
      "metadata": {
        "id": "_Rojih6WgeyB"
      },
      "execution_count": null,
      "outputs": []
    },
    {
      "cell_type": "code",
      "source": [
        "# the day of the week (Monday=0, Sunday=6) and if it's a week end day or week day.\n",
        "df['DayOfTheWeek'] = df['timestamp'].dt.dayofweek\n",
        "df['WeekDay'] = (df['DayOfTheWeek'] < 5).astype(int)\n",
        "# An estimation of anomly population of the dataset (necessary for several algorithm)\n",
        "outliers_fraction = 0.01"
      ],
      "metadata": {
        "id": "rXHj3I96ge75"
      },
      "execution_count": null,
      "outputs": []
    },
    {
      "cell_type": "code",
      "source": [
        "df['time_epoch'] = (df['timestamp'].astype(np.int64)/100000000000).astype(np.int64)"
      ],
      "metadata": {
        "id": "RA-19iRrge_2"
      },
      "execution_count": null,
      "outputs": []
    },
    {
      "cell_type": "code",
      "source": [
        "df['categories'] = df['WeekDay']*2 + df['daylight']\n",
        "\n",
        "a = df.loc[df['categories'] == 0, 'value']\n",
        "b = df.loc[df['categories'] == 1, 'value']\n",
        "c = df.loc[df['categories'] == 2, 'value']\n",
        "d = df.loc[df['categories'] == 3, 'value']\n",
        "\n",
        "fig, ax = plt.subplots()\n",
        "a_heights, a_bins = np.histogram(a)\n",
        "b_heights, b_bins = np.histogram(b, bins=a_bins)\n",
        "c_heights, c_bins = np.histogram(c, bins=a_bins)\n",
        "d_heights, d_bins = np.histogram(d, bins=a_bins)\n",
        "\n",
        "width = (a_bins[1] - a_bins[0])/6\n",
        "ax.bar(a_bins[:-1], a_heights*100/a.count(), width=width, facecolor='blue', label='WeekEndNight')\n",
        "ax.bar(b_bins[:-1]+width, (b_heights*100/b.count()), width=width, facecolor='green', label ='WeekEndLight')\n",
        "ax.bar(c_bins[:-1]+width*2, (c_heights*100/c.count()), width=width, facecolor='red', label ='WeekDayNight')\n",
        "ax.bar(d_bins[:-1]+width*3, (d_heights*100/d.count()), width=width, facecolor='black', label ='WeekDayLight')\n",
        "\n",
        "plt.legend()\n",
        "plt.show()\n"
      ],
      "metadata": {
        "colab": {
          "base_uri": "https://localhost:8080/",
          "height": 430
        },
        "id": "058jRec_hC8t",
        "outputId": "de6df439-db7e-4dee-986f-27b83a583717"
      },
      "execution_count": null,
      "outputs": [
        {
          "output_type": "display_data",
          "data": {
            "text/plain": [
              "<Figure size 640x480 with 1 Axes>"
            ],
            "image/png": "[encoded data removed]"
          },
          "metadata": {}
        }
      ]
    },
    {
      "cell_type": "code",
      "source": [
        "data_n = df[['value', 'hours', 'daylight', 'DayOfTheWeek', 'WeekDay']]\n",
        "min_max_scaler = preprocessing.StandardScaler()\n",
        "np_scaled = min_max_scaler.fit_transform(data_n)\n",
        "data_n = pd.DataFrame(np_scaled)\n",
        "\n",
        "# important parameters and train/test size\n",
        "prediction_time = 1 \n",
        "testdatasize = 1000\n",
        "unroll_length = 50\n",
        "testdatacut = testdatasize + unroll_length  + 1\n",
        "\n",
        "#train data\n",
        "x_train = data_n[0:-prediction_time-testdatacut].to_numpy()\n",
        "y_train = data_n[prediction_time:-testdatacut  ][0].to_numpy()\n",
        "\n",
        "\n",
        "x_test = data_n[0-testdatacut:-prediction_time].to_numpy()\n",
        "y_test = data_n[prediction_time-testdatacut:  ][0].to_numpy()"
      ],
      "metadata": {
        "id": "Q1qoO9pVhQwu"
      },
      "execution_count": null,
      "outputs": []
    },
    {
      "cell_type": "code",
      "source": [
        "def unroll(data,sequence_length=24):\n",
        "    result = []\n",
        "    for index in range(len(data) - sequence_length):\n",
        "        result.append(data[index: index + sequence_length])\n",
        "    return np.asarray(result)\n",
        "\n",
        "# adapt the datasets for the sequence data shape\n",
        "x_train = unroll(x_train,unroll_length)\n",
        "x_test  = unroll(x_test,unroll_length)\n",
        "y_train = y_train[-x_train.shape[0]:]\n",
        "y_test  = y_test[-x_test.shape[0]:]\n",
        "\n",
        "# see the shape\n",
        "print(\"x_train\", x_train.shape)\n",
        "print(\"y_train\", y_train.shape)\n",
        "print(\"x_test\", x_test.shape)\n",
        "print(\"y_test\", y_test.shape)"
      ],
      "metadata": {
        "colab": {
          "base_uri": "https://localhost:8080/"
        },
        "id": "WymlXA6EihXZ",
        "outputId": "14ce9a55-608e-419f-e9cf-1ec19a4f1c3a"
      },
      "execution_count": null,
      "outputs": [
        {
          "output_type": "stream",
          "name": "stdout",
          "text": [
            "x_train (6165, 50, 5)\n",
            "y_train (6165,)\n",
            "x_test (1000, 50, 5)\n",
            "y_test (1000,)\n"
          ]
        }
      ]
    },
    {
      "cell_type": "code",
      "source": [
        "from keras.layers.core import Dense, Activation, Dropout\n",
        "from keras.layers import LSTM\n",
        "from keras.models import Sequential\n",
        "import time #helper libraries\n",
        "from keras.models import model_from_json\n",
        "import sys"
      ],
      "metadata": {
        "id": "QaKrX0pCimhR"
      },
      "execution_count": null,
      "outputs": []
    },
    {
      "cell_type": "code",
      "source": [
        "model = Sequential()\n",
        "model.add(LSTM(100,\n",
        "    \n",
        "    return_sequences=True))\n",
        "model.add(Dropout(0.2))\n",
        "\n",
        "model.add(LSTM(\n",
        "    100,\n",
        "    return_sequences=False))\n",
        "model.add(Dropout(0.2))\n",
        "\n",
        "model.add(Dense(\n",
        "    units=1))\n",
        "model.add(Activation('linear'))\n",
        "\n",
        "start = time.time()\n",
        "model.compile(loss='mse', optimizer='rmsprop')\n",
        "print('compilation time : {}'.format(time.time() - start))"
      ],
      "metadata": {
        "colab": {
          "base_uri": "https://localhost:8080/"
        },
        "id": "rNO95wgCjTNA",
        "outputId": "9072683f-7d38-4f96-ea63-84606baaaa25"
      },
      "execution_count": null,
      "outputs": [
        {
          "output_type": "stream",
          "name": "stdout",
          "text": [
            "compilation time : 0.08398818969726562\n"
          ]
        }
      ]
    },
    {
      "cell_type": "code",
      "source": [
        "model.fit(\n",
        "    x_train,\n",
        "    y_train,\n",
        "    batch_size=3028,\n",
        "    epochs=30,\n",
        "    validation_split=0.1)"
      ],
      "metadata": {
        "colab": {
          "base_uri": "https://localhost:8080/"
        },
        "id": "K_PHzZqMkDl3",
        "outputId": "35ed7887-e2ec-42d5-9cf3-643ffd6ff966"
      },
      "execution_count": null,
      "outputs": [
        {
          "output_type": "stream",
          "name": "stdout",
          "text": [
            "Epoch 1/30\n",
            "2/2 [==============================] - 17s 4s/step - loss: 0.6329 - val_loss: 0.5286\n",
            "Epoch 2/30\n",
            "2/2 [==============================] - 9s 5s/step - loss: 0.1584 - val_loss: 0.3675\n",
            "Epoch 3/30\n",
            "2/2 [==============================] - 7s 3s/step - loss: 0.1700 - val_loss: 0.3362\n",
            "Epoch 4/30\n",
            "2/2 [==============================] - 8s 5s/step - loss: 0.1261 - val_loss: 0.2507\n",
            "Epoch 5/30\n",
            "2/2 [==============================] - 7s 3s/step - loss: 0.1167 - val_loss: 0.2285\n",
            "Epoch 6/30\n",
            "2/2 [==============================] - 8s 5s/step - loss: 0.1139 - val_loss: 0.2031\n",
            "Epoch 7/30\n",
            "2/2 [==============================] - 6s 3s/step - loss: 0.1008 - val_loss: 0.1905\n",
            "Epoch 8/30\n",
            "2/2 [==============================] - 8s 4s/step - loss: 0.0923 - val_loss: 0.1914\n",
            "Epoch 9/30\n",
            "2/2 [==============================] - 7s 3s/step - loss: 0.0945 - val_loss: 0.1895\n",
            "Epoch 10/30\n",
            "2/2 [==============================] - 8s 4s/step - loss: 0.0942 - val_loss: 0.1856\n",
            "Epoch 11/30\n",
            "2/2 [==============================] - 7s 3s/step - loss: 0.0932 - val_loss: 0.1961\n",
            "Epoch 12/30\n",
            "2/2 [==============================] - 11s 3s/step - loss: 0.0981 - val_loss: 0.1848\n",
            "Epoch 13/30\n",
            "2/2 [==============================] - 7s 4s/step - loss: 0.0887 - val_loss: 0.1743\n",
            "Epoch 14/30\n",
            "2/2 [==============================] - 8s 3s/step - loss: 0.0816 - val_loss: 0.1624\n",
            "Epoch 15/30\n",
            "2/2 [==============================] - 8s 4s/step - loss: 0.0751 - val_loss: 0.1435\n",
            "Epoch 16/30\n",
            "2/2 [==============================] - 7s 3s/step - loss: 0.0739 - val_loss: 0.1443\n",
            "Epoch 17/30\n",
            "2/2 [==============================] - 8s 5s/step - loss: 0.0822 - val_loss: 0.1426\n",
            "Epoch 18/30\n",
            "2/2 [==============================] - 7s 3s/step - loss: 0.0936 - val_loss: 0.1338\n",
            "Epoch 19/30\n",
            "2/2 [==============================] - 9s 5s/step - loss: 0.0829 - val_loss: 0.1361\n",
            "Epoch 20/30\n",
            "2/2 [==============================] - 6s 3s/step - loss: 0.0840 - val_loss: 0.1320\n",
            "Epoch 21/30\n",
            "2/2 [==============================] - 9s 5s/step - loss: 0.0805 - val_loss: 0.1298\n",
            "Epoch 22/30\n",
            "2/2 [==============================] - 6s 3s/step - loss: 0.0745 - val_loss: 0.1225\n",
            "Epoch 23/30\n",
            "2/2 [==============================] - 9s 5s/step - loss: 0.0721 - val_loss: 0.1221\n",
            "Epoch 24/30\n",
            "2/2 [==============================] - 7s 3s/step - loss: 0.0778 - val_loss: 0.1167\n",
            "Epoch 25/30\n",
            "2/2 [==============================] - 11s 6s/step - loss: 0.0753 - val_loss: 0.1175\n",
            "Epoch 26/30\n",
            "2/2 [==============================] - 7s 3s/step - loss: 0.0714 - val_loss: 0.1223\n",
            "Epoch 27/30\n",
            "2/2 [==============================] - 9s 5s/step - loss: 0.0715 - val_loss: 0.1251\n",
            "Epoch 28/30\n",
            "2/2 [==============================] - 6s 3s/step - loss: 0.0766 - val_loss: 0.1161\n",
            "Epoch 29/30\n",
            "2/2 [==============================] - 8s 5s/step - loss: 0.0711 - val_loss: 0.1243\n",
            "Epoch 30/30\n",
            "2/2 [==============================] - 7s 3s/step - loss: 0.0643 - val_loss: 0.1171\n"
          ]
        },
        {
          "output_type": "execute_result",
          "data": {
            "text/plain": [
              "<keras.callbacks.History at 0x7fe30c4e3b50>"
            ]
          },
          "metadata": {},
          "execution_count": 27
        }
      ]
    },
    {
      "cell_type": "code",
      "source": [
        "\n",
        "model.save('model.h5')"
      ],
      "metadata": {
        "id": "9KXleer3n4Xm"
      },
      "execution_count": null,
      "outputs": []
    }
  ]
}